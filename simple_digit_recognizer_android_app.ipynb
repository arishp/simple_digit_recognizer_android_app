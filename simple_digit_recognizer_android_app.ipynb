{
  "nbformat": 4,
  "nbformat_minor": 0,
  "metadata": {
    "colab": {
      "name": "MNIST_mobile_app.ipynb",
      "provenance": [],
      "collapsed_sections": []
    },
    "kernelspec": {
      "name": "python3",
      "display_name": "Python 3"
    }
  },
  "cells": [
    {
      "cell_type": "markdown",
      "metadata": {
        "id": "mQpew1W2xy2T",
        "colab_type": "text"
      },
      "source": [
        "MNIST Computational graph development"
      ]
    },
    {
      "cell_type": "code",
      "metadata": {
        "id": "pponYYxz7iaI",
        "colab_type": "code",
        "outputId": "51fd9810-0364-46f1-af30-27e786936d3e",
        "colab": {
          "base_uri": "https://localhost:8080/",
          "height": 202
        }
      },
      "source": [
        "import tensorflow as tf\n",
        "from tensorflow.examples.tutorials.mnist import input_data\n",
        "mnist_data = input_data.read_data_sets('MNIST_data', one_hot=True)\n",
        "x_input = tf.placeholder(dtype=tf.float32, shape=[None, 784], name='x_input')\n",
        "W = tf.Variable(initial_value=tf.zeros(shape=[784,10]), name='W')\n",
        "b = tf.Variable(initial_value=tf.zeros(shape=[10]), name='b')\n",
        "y_actual = tf.add(x=tf.matmul(a=x_input, b=W, name='matmul'), y=b, name='y_actual')\n",
        "y_expected = tf.placeholder(dtype=tf.float32, shape=[None,10], name='y_expected')\n",
        "cross_entropy_loss = tf.reduce_mean(input_tensor=tf.nn.softmax_cross_entropy_with_logits(labels=y_expected, logits=y_actual), name='cross_entropy_loss')\n",
        "optimizer = tf.train.GradientDescentOptimizer(learning_rate=0.5, name='optimizer')\n",
        "train_step = optimizer.minimize(loss=cross_entropy_loss, name='train_step')\n",
        "saver = tf.train.Saver()\n",
        "session = tf.InteractiveSession()\n",
        "session.run(tf.global_variables_initializer())\n",
        "tf.train.write_graph(graph_or_graph_def=session.graph_def,\n",
        "                     logdir='.',\n",
        "                     name='mnist_model.pbtxt',\n",
        "                     as_text=False)\n",
        "for _ in range(1000):\n",
        "  batch = mnist_data.train.next_batch(100)\n",
        "  train_step.run(feed_dict={x_input: batch[0], y_expected: batch[1]})\n",
        "saver.save(sess=session,\n",
        "           save_path='mnist_model.ckpt')\n",
        "\n",
        "correct_prediction = tf.equal(x=tf.argmax(y_actual, 1),y=tf.argmax(y_expected,1))\n",
        "accuracy = tf.reduce_mean(tf.cast(x=correct_prediction, dtype=tf.float32))\n",
        "print(accuracy.eval(feed_dict={x_input: mnist_data.test.images, y_expected: mnist_data.test.labels}))\n",
        "print(session.run(fetches=y_actual, feed_dict={x_input: [mnist_data.test.images[0]]}))"
      ],
      "execution_count": 2,
      "outputs": [
        {
          "output_type": "stream",
          "text": [
            "Extracting MNIST_data/train-images-idx3-ubyte.gz\n",
            "Extracting MNIST_data/train-labels-idx1-ubyte.gz\n",
            "Extracting MNIST_data/t10k-images-idx3-ubyte.gz\n",
            "Extracting MNIST_data/t10k-labels-idx1-ubyte.gz\n"
          ],
          "name": "stdout"
        },
        {
          "output_type": "stream",
          "text": [
            "/usr/local/lib/python3.6/dist-packages/tensorflow_core/python/client/session.py:1750: UserWarning: An interactive session is already active. This can cause out-of-memory errors in some cases. You must explicitly call `InteractiveSession.close()` to release resources held by the other session(s).\n",
            "  warnings.warn('An interactive session is already active. This can '\n"
          ],
          "name": "stderr"
        },
        {
          "output_type": "stream",
          "text": [
            "0.9195\n",
            "[[ 0.27319932 -8.558873    0.9127517   4.431087   -2.9133983  -0.23717833\n",
            "  -7.781933   11.06955     0.05514276  2.749658  ]]\n"
          ],
          "name": "stdout"
        }
      ]
    },
    {
      "cell_type": "markdown",
      "metadata": {
        "id": "GZMp9hfRx_m-",
        "colab_type": "text"
      },
      "source": [
        "Freeze graph"
      ]
    },
    {
      "cell_type": "code",
      "metadata": {
        "id": "6BduCl7haR_f",
        "colab_type": "code",
        "outputId": "f05128a0-6c8b-4be5-f145-8732c3efb330",
        "colab": {
          "base_uri": "https://localhost:8080/",
          "height": 368
        }
      },
      "source": [
        "import tensorflow as tf\n",
        "from tensorflow.python.tools import freeze_graph, optimize_for_inference_lib\n",
        "freeze_graph.freeze_graph(input_graph='mnist_model.pbtxt',\n",
        "                          input_saver='',\n",
        "                          input_binary=True,\n",
        "                          input_checkpoint='mnist_model.ckpt',\n",
        "                          output_node_names='y_actual',\n",
        "                          restore_op_name='save/restore_all',\n",
        "                          filename_tensor_name='save/Const:0',\n",
        "                          output_graph='frozen_mnist_model.pb',\n",
        "                          clear_devices=True,\n",
        "                          initializer_nodes='')\n",
        "input_graph_def = tf.GraphDef()\n",
        "with tf.gfile.Open('frozen_mnist_model.pb', 'rb') as f:\n",
        "  data = f.read()\n",
        "  input_graph_def.ParseFromString(data)\n",
        "output_graph_def = optimize_for_inference_lib.optimize_for_inference(input_graph_def=input_graph_def,\n",
        "                                                                     input_node_names=['x_input'],\n",
        "                                                                     output_node_names=['y_actual'],\n",
        "                                                                     placeholder_type_enum=tf.float32.as_datatype_enum)\n",
        "f = tf.gfile.FastGFile(name='optimized_frozen_mnist_model.pb',\n",
        "                       mode='w')\n",
        "f.write(file_content=output_graph_def.SerializeToString())"
      ],
      "execution_count": 3,
      "outputs": [
        {
          "output_type": "stream",
          "text": [
            "WARNING:tensorflow:From /usr/local/lib/python3.6/dist-packages/tensorflow_core/python/tools/freeze_graph.py:127: checkpoint_exists (from tensorflow.python.training.checkpoint_management) is deprecated and will be removed in a future version.\n",
            "Instructions for updating:\n",
            "Use standard file APIs to check for files with this prefix.\n",
            "INFO:tensorflow:Restoring parameters from mnist_model.ckpt\n",
            "WARNING:tensorflow:From /usr/local/lib/python3.6/dist-packages/tensorflow_core/python/tools/freeze_graph.py:233: convert_variables_to_constants (from tensorflow.python.framework.graph_util_impl) is deprecated and will be removed in a future version.\n",
            "Instructions for updating:\n",
            "Use `tf.compat.v1.graph_util.convert_variables_to_constants`\n",
            "WARNING:tensorflow:From /usr/local/lib/python3.6/dist-packages/tensorflow_core/python/framework/graph_util_impl.py:277: extract_sub_graph (from tensorflow.python.framework.graph_util_impl) is deprecated and will be removed in a future version.\n",
            "Instructions for updating:\n",
            "Use `tf.compat.v1.graph_util.extract_sub_graph`\n",
            "INFO:tensorflow:Froze 2 variables.\n",
            "INFO:tensorflow:Converted 2 variables to const ops.\n",
            "WARNING:tensorflow:From /usr/local/lib/python3.6/dist-packages/tensorflow_core/python/tools/optimize_for_inference_lib.py:113: remove_training_nodes (from tensorflow.python.framework.graph_util_impl) is deprecated and will be removed in a future version.\n",
            "Instructions for updating:\n",
            "Use `tf.compat.v1.graph_util.remove_training_nodes`\n",
            "WARNING:tensorflow:From <ipython-input-3-9e1d9b7a7e00>:22: FastGFile.__init__ (from tensorflow.python.platform.gfile) is deprecated and will be removed in a future version.\n",
            "Instructions for updating:\n",
            "Use tf.gfile.GFile.\n"
          ],
          "name": "stdout"
        }
      ]
    },
    {
      "cell_type": "code",
      "metadata": {
        "id": "rsK0pxVlI9RM",
        "colab_type": "code",
        "colab": {}
      },
      "source": [
        ""
      ],
      "execution_count": 0,
      "outputs": []
    }
  ]
}